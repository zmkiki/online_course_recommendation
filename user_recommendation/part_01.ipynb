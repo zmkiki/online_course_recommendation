{
 "cells": [
  {
   "cell_type": "markdown",
   "metadata": {},
   "source": [
    "# 字段说明\n",
    "——表1 user.csv：\n",
    "\n",
    "- user_id 用户id\n",
    "- register_time 注册时间\n",
    "- recently_logged 最近访问时间\n",
    "- learn_time 学习时间（分）\n",
    "- number_of_classes_join 加入班级数\n",
    "- number_of_classes_out 退出班级数\n",
    "- school 用户所属学校\n",
    "\n",
    "——表 2 study_information.csv 字段说明：\n",
    "\n",
    "- user_id 用户 id\n",
    "- course_id 课程 id\n",
    "- course_join_time 加入课程的时间\n",
    "- learn_process 学习进度\n",
    "- price 课程单价\n",
    "\n",
    "——表 3 login.csv 字段说明：\n",
    "\n",
    "- 字段名 描述\n",
    "- user_id 用户 id\n",
    "- login_time 登录时间\n",
    "- login_place 登录地址"
   ]
  },
  {
   "cell_type": "markdown",
   "metadata": {},
   "source": [
    "# 任务一：数据预处理\n",
    "- 任务 1.1 对照附录1，理解各字段的含义，进行缺失值、重复值等方面的必12要处理，将处理结果保存为“task1_1_X.csv”（如果包含多张数据表，X 可从 1 开始往后编号），并在报告中描述处理过程\n",
    "- 任务 1.2 对用户信息表中 recently_logged 字段的“--”值进行必要的处理，将处理结果保存为“task1_2.csv”，并在报告中描述处理过程"
   ]
  },
  {
   "cell_type": "code",
   "execution_count": 1,
   "metadata": {
    "ExecuteTime": {
     "end_time": "2021-05-25T08:57:50.903977Z",
     "start_time": "2021-05-25T08:57:49.745341Z"
    }
   },
   "outputs": [],
   "source": [
    "from IPython.core.interactiveshell import InteractiveShell \n",
    "InteractiveShell.ast_node_interactivity = 'all' #默认为'last'\n",
    "\n",
    "import warnings\n",
    "warnings.filterwarnings('ignore')\n",
    "\n",
    "import pandas as pd\n",
    "import numpy as np\n",
    "import datetime\n",
    "import jieba\n",
    "%matplotlib inline\n",
    "import matplotlib.pyplot as plt"
   ]
  },
  {
   "cell_type": "code",
   "execution_count": 2,
   "metadata": {
    "ExecuteTime": {
     "end_time": "2021-05-25T08:57:51.725898Z",
     "start_time": "2021-05-25T08:57:50.905273Z"
    }
   },
   "outputs": [],
   "source": [
    "login = pd.read_csv('./data/login.csv',encoding='gbk')\n",
    "stu_info = pd.read_csv('./data/study_information.csv',encoding='gbk')\n",
    "users = pd.read_csv('./data/users.csv',encoding='gbk')"
   ]
  },
  {
   "cell_type": "markdown",
   "metadata": {},
   "source": [
    "## login"
   ]
  },
  {
   "cell_type": "markdown",
   "metadata": {},
   "source": [
    "### login表缺失值"
   ]
  },
  {
   "cell_type": "markdown",
   "metadata": {},
   "source": [
    "首先判断该缺失值是否为真实缺失值。针对不同的数据缺失情况，本次分析将会采用不同的处理方式：\n",
    "\n",
    "- 针对数据为0的情况，需要进行实际的分析，回归到原始数据中去，判断该数据为0时是否具有实际意义。如果没有实际意义就将其作为缺失值处理\n",
    "- 针对数据为null的情况，如果该特征数据缺失情况低于10%，则结合该特征的重要性进行综合判断。如果该字段的重要性比较低，则考虑直接删除，如果该字段的重要性比较高，则考虑利用插值或者均值填充进行填补"
   ]
  },
  {
   "cell_type": "code",
   "execution_count": 3,
   "metadata": {
    "ExecuteTime": {
     "end_time": "2021-05-25T08:57:51.783984Z",
     "start_time": "2021-05-25T08:57:51.726905Z"
    }
   },
   "outputs": [
    {
     "data": {
      "text/html": [
       "<div>\n",
       "<style scoped>\n",
       "    .dataframe tbody tr th:only-of-type {\n",
       "        vertical-align: middle;\n",
       "    }\n",
       "\n",
       "    .dataframe tbody tr th {\n",
       "        vertical-align: top;\n",
       "    }\n",
       "\n",
       "    .dataframe thead th {\n",
       "        text-align: right;\n",
       "    }\n",
       "</style>\n",
       "<table border=\"1\" class=\"dataframe\">\n",
       "  <thead>\n",
       "    <tr style=\"text-align: right;\">\n",
       "      <th></th>\n",
       "      <th>user_id</th>\n",
       "      <th>login_time</th>\n",
       "      <th>login_place</th>\n",
       "    </tr>\n",
       "  </thead>\n",
       "  <tbody>\n",
       "    <tr>\n",
       "      <th>0</th>\n",
       "      <td>用户3</td>\n",
       "      <td>2018-09-06 09:32:47</td>\n",
       "      <td>中国广东广州</td>\n",
       "    </tr>\n",
       "    <tr>\n",
       "      <th>1</th>\n",
       "      <td>用户3</td>\n",
       "      <td>2018-09-07 09:28:28</td>\n",
       "      <td>中国广东广州</td>\n",
       "    </tr>\n",
       "    <tr>\n",
       "      <th>2</th>\n",
       "      <td>用户3</td>\n",
       "      <td>2018-09-07 09:57:44</td>\n",
       "      <td>中国广东广州</td>\n",
       "    </tr>\n",
       "    <tr>\n",
       "      <th>3</th>\n",
       "      <td>用户3</td>\n",
       "      <td>2018-09-07 10:55:07</td>\n",
       "      <td>中国广东广州</td>\n",
       "    </tr>\n",
       "    <tr>\n",
       "      <th>4</th>\n",
       "      <td>用户3</td>\n",
       "      <td>2018-09-07 12:28:42</td>\n",
       "      <td>中国广东广州</td>\n",
       "    </tr>\n",
       "  </tbody>\n",
       "</table>\n",
       "</div>"
      ],
      "text/plain": [
       "  user_id           login_time login_place\n",
       "0     用户3  2018-09-06 09:32:47      中国广东广州\n",
       "1     用户3  2018-09-07 09:28:28      中国广东广州\n",
       "2     用户3  2018-09-07 09:57:44      中国广东广州\n",
       "3     用户3  2018-09-07 10:55:07      中国广东广州\n",
       "4     用户3  2018-09-07 12:28:42      中国广东广州"
      ]
     },
     "execution_count": 3,
     "metadata": {},
     "output_type": "execute_result"
    }
   ],
   "source": [
    "login.head()"
   ]
  },
  {
   "cell_type": "code",
   "execution_count": 4,
   "metadata": {
    "ExecuteTime": {
     "end_time": "2021-05-25T08:57:51.863155Z",
     "start_time": "2021-05-25T08:57:51.786954Z"
    }
   },
   "outputs": [
    {
     "name": "stdout",
     "output_type": "stream",
     "text": [
      "<class 'pandas.core.frame.DataFrame'>\n",
      "RangeIndex: 387144 entries, 0 to 387143\n",
      "Data columns (total 3 columns):\n",
      " #   Column       Non-Null Count   Dtype \n",
      "---  ------       --------------   ----- \n",
      " 0   user_id      387144 non-null  object\n",
      " 1   login_time   387144 non-null  object\n",
      " 2   login_place  387144 non-null  object\n",
      "dtypes: object(3)\n",
      "memory usage: 8.9+ MB\n"
     ]
    }
   ],
   "source": [
    "login.info()"
   ]
  },
  {
   "cell_type": "markdown",
   "metadata": {},
   "source": [
    "- **结论** : 初步观察login表无明显缺失值"
   ]
  },
  {
   "cell_type": "markdown",
   "metadata": {},
   "source": [
    "### login表异常值"
   ]
  },
  {
   "cell_type": "code",
   "execution_count": 5,
   "metadata": {
    "ExecuteTime": {
     "end_time": "2021-05-25T08:57:51.879113Z",
     "start_time": "2021-05-25T08:57:51.865150Z"
    }
   },
   "outputs": [],
   "source": [
    "# for i in login.columns:\n",
    "#     a = login[i]  \n",
    "#     print(a.value_counts().sort_values()[-10:]) "
   ]
  },
  {
   "cell_type": "markdown",
   "metadata": {},
   "source": [
    "- **结论** ：无明显异常值"
   ]
  },
  {
   "cell_type": "markdown",
   "metadata": {},
   "source": [
    "### login表重复值"
   ]
  },
  {
   "cell_type": "code",
   "execution_count": 6,
   "metadata": {
    "ExecuteTime": {
     "end_time": "2021-05-25T08:57:52.068219Z",
     "start_time": "2021-05-25T08:57:51.884100Z"
    }
   },
   "outputs": [],
   "source": [
    "login.drop_duplicates(inplace=True)"
   ]
  },
  {
   "cell_type": "markdown",
   "metadata": {},
   "source": [
    "## stu_info"
   ]
  },
  {
   "cell_type": "markdown",
   "metadata": {},
   "source": [
    "### stu_info表缺失值"
   ]
  },
  {
   "cell_type": "code",
   "execution_count": 7,
   "metadata": {
    "ExecuteTime": {
     "end_time": "2021-05-25T08:57:52.093040Z",
     "start_time": "2021-05-25T08:57:52.068219Z"
    }
   },
   "outputs": [
    {
     "data": {
      "text/html": [
       "<div>\n",
       "<style scoped>\n",
       "    .dataframe tbody tr th:only-of-type {\n",
       "        vertical-align: middle;\n",
       "    }\n",
       "\n",
       "    .dataframe tbody tr th {\n",
       "        vertical-align: top;\n",
       "    }\n",
       "\n",
       "    .dataframe thead th {\n",
       "        text-align: right;\n",
       "    }\n",
       "</style>\n",
       "<table border=\"1\" class=\"dataframe\">\n",
       "  <thead>\n",
       "    <tr style=\"text-align: right;\">\n",
       "      <th></th>\n",
       "      <th>user_id</th>\n",
       "      <th>course_id</th>\n",
       "      <th>course_join_time</th>\n",
       "      <th>learn_process</th>\n",
       "      <th>price</th>\n",
       "    </tr>\n",
       "  </thead>\n",
       "  <tbody>\n",
       "    <tr>\n",
       "      <th>0</th>\n",
       "      <td>用户3</td>\n",
       "      <td>课程106</td>\n",
       "      <td>2020-04-21 10:11:50</td>\n",
       "      <td>width: 0%;</td>\n",
       "      <td>0.0</td>\n",
       "    </tr>\n",
       "    <tr>\n",
       "      <th>1</th>\n",
       "      <td>用户3</td>\n",
       "      <td>课程136</td>\n",
       "      <td>2020-03-05 11:44:36</td>\n",
       "      <td>width: 1%;</td>\n",
       "      <td>0.0</td>\n",
       "    </tr>\n",
       "    <tr>\n",
       "      <th>2</th>\n",
       "      <td>用户3</td>\n",
       "      <td>课程205</td>\n",
       "      <td>2018-09-10 18:17:01</td>\n",
       "      <td>width: 63%;</td>\n",
       "      <td>0.0</td>\n",
       "    </tr>\n",
       "    <tr>\n",
       "      <th>3</th>\n",
       "      <td>用户4</td>\n",
       "      <td>课程26</td>\n",
       "      <td>2020-03-31 10:52:51</td>\n",
       "      <td>width: 0%;</td>\n",
       "      <td>319.0</td>\n",
       "    </tr>\n",
       "    <tr>\n",
       "      <th>4</th>\n",
       "      <td>用户4</td>\n",
       "      <td>课程34</td>\n",
       "      <td>2020-03-31 10:52:49</td>\n",
       "      <td>width: 0%;</td>\n",
       "      <td>299.0</td>\n",
       "    </tr>\n",
       "  </tbody>\n",
       "</table>\n",
       "</div>"
      ],
      "text/plain": [
       "  user_id course_id     course_join_time learn_process  price\n",
       "0     用户3     课程106  2020-04-21 10:11:50    width: 0%;    0.0\n",
       "1     用户3     课程136  2020-03-05 11:44:36    width: 1%;    0.0\n",
       "2     用户3     课程205  2018-09-10 18:17:01   width: 63%;    0.0\n",
       "3     用户4      课程26  2020-03-31 10:52:51    width: 0%;  319.0\n",
       "4     用户4      课程34  2020-03-31 10:52:49    width: 0%;  299.0"
      ]
     },
     "execution_count": 7,
     "metadata": {},
     "output_type": "execute_result"
    }
   ],
   "source": [
    "stu_info.head()"
   ]
  },
  {
   "cell_type": "code",
   "execution_count": 8,
   "metadata": {
    "ExecuteTime": {
     "end_time": "2021-05-25T08:57:52.140411Z",
     "start_time": "2021-05-25T08:57:52.097013Z"
    }
   },
   "outputs": [
    {
     "name": "stdout",
     "output_type": "stream",
     "text": [
      "<class 'pandas.core.frame.DataFrame'>\n",
      "RangeIndex: 194974 entries, 0 to 194973\n",
      "Data columns (total 5 columns):\n",
      " #   Column            Non-Null Count   Dtype  \n",
      "---  ------            --------------   -----  \n",
      " 0   user_id           194974 non-null  object \n",
      " 1   course_id         194974 non-null  object \n",
      " 2   course_join_time  194974 non-null  object \n",
      " 3   learn_process     194974 non-null  object \n",
      " 4   price             190736 non-null  float64\n",
      "dtypes: float64(1), object(4)\n",
      "memory usage: 7.4+ MB\n"
     ]
    }
   ],
   "source": [
    "stu_info.info()"
   ]
  },
  {
   "cell_type": "markdown",
   "metadata": {},
   "source": [
    "- price列存在缺失数据"
   ]
  },
  {
   "cell_type": "code",
   "execution_count": 9,
   "metadata": {
    "ExecuteTime": {
     "end_time": "2021-05-25T08:57:52.156368Z",
     "start_time": "2021-05-25T08:57:52.142405Z"
    }
   },
   "outputs": [
    {
     "data": {
      "text/plain": [
       "课程51    4011\n",
       "课程96     227\n",
       "Name: course_id, dtype: int64"
      ]
     },
     "execution_count": 9,
     "metadata": {},
     "output_type": "execute_result"
    }
   ],
   "source": [
    "stu_info[stu_info['price'].isnull()]['course_id'].value_counts()"
   ]
  },
  {
   "cell_type": "markdown",
   "metadata": {
    "ExecuteTime": {
     "end_time": "2021-05-25T08:31:47.986348Z",
     "start_time": "2021-05-25T08:31:47.888586Z"
    }
   },
   "source": [
    "- 查看同一课程是否存在差异定价"
   ]
  },
  {
   "cell_type": "code",
   "execution_count": 10,
   "metadata": {
    "ExecuteTime": {
     "end_time": "2021-05-25T08:57:52.204270Z",
     "start_time": "2021-05-25T08:57:52.159363Z"
    }
   },
   "outputs": [
    {
     "data": {
      "text/html": [
       "<div>\n",
       "<style scoped>\n",
       "    .dataframe tbody tr th:only-of-type {\n",
       "        vertical-align: middle;\n",
       "    }\n",
       "\n",
       "    .dataframe tbody tr th {\n",
       "        vertical-align: top;\n",
       "    }\n",
       "\n",
       "    .dataframe thead tr th {\n",
       "        text-align: left;\n",
       "    }\n",
       "\n",
       "    .dataframe thead tr:last-of-type th {\n",
       "        text-align: right;\n",
       "    }\n",
       "</style>\n",
       "<table border=\"1\" class=\"dataframe\">\n",
       "  <thead>\n",
       "    <tr>\n",
       "      <th></th>\n",
       "      <th colspan=\"2\" halign=\"left\">price</th>\n",
       "    </tr>\n",
       "    <tr>\n",
       "      <th></th>\n",
       "      <th>max</th>\n",
       "      <th>min</th>\n",
       "    </tr>\n",
       "    <tr>\n",
       "      <th>course_id</th>\n",
       "      <th></th>\n",
       "      <th></th>\n",
       "    </tr>\n",
       "  </thead>\n",
       "  <tbody>\n",
       "    <tr>\n",
       "      <th>课程0</th>\n",
       "      <td>199.0</td>\n",
       "      <td>199.0</td>\n",
       "    </tr>\n",
       "    <tr>\n",
       "      <th>课程1</th>\n",
       "      <td>199.0</td>\n",
       "      <td>199.0</td>\n",
       "    </tr>\n",
       "    <tr>\n",
       "      <th>课程10</th>\n",
       "      <td>0.0</td>\n",
       "      <td>0.0</td>\n",
       "    </tr>\n",
       "    <tr>\n",
       "      <th>课程100</th>\n",
       "      <td>199.0</td>\n",
       "      <td>199.0</td>\n",
       "    </tr>\n",
       "    <tr>\n",
       "      <th>课程101</th>\n",
       "      <td>0.0</td>\n",
       "      <td>0.0</td>\n",
       "    </tr>\n",
       "    <tr>\n",
       "      <th>...</th>\n",
       "      <td>...</td>\n",
       "      <td>...</td>\n",
       "    </tr>\n",
       "    <tr>\n",
       "      <th>课程95</th>\n",
       "      <td>499.0</td>\n",
       "      <td>499.0</td>\n",
       "    </tr>\n",
       "    <tr>\n",
       "      <th>课程96</th>\n",
       "      <td>NaN</td>\n",
       "      <td>NaN</td>\n",
       "    </tr>\n",
       "    <tr>\n",
       "      <th>课程97</th>\n",
       "      <td>29.0</td>\n",
       "      <td>29.0</td>\n",
       "    </tr>\n",
       "    <tr>\n",
       "      <th>课程98</th>\n",
       "      <td>99.0</td>\n",
       "      <td>99.0</td>\n",
       "    </tr>\n",
       "    <tr>\n",
       "      <th>课程99</th>\n",
       "      <td>59.0</td>\n",
       "      <td>59.0</td>\n",
       "    </tr>\n",
       "  </tbody>\n",
       "</table>\n",
       "<p>241 rows × 2 columns</p>\n",
       "</div>"
      ],
      "text/plain": [
       "           price       \n",
       "             max    min\n",
       "course_id              \n",
       "课程0        199.0  199.0\n",
       "课程1        199.0  199.0\n",
       "课程10         0.0    0.0\n",
       "课程100      199.0  199.0\n",
       "课程101        0.0    0.0\n",
       "...          ...    ...\n",
       "课程95       499.0  499.0\n",
       "课程96         NaN    NaN\n",
       "课程97        29.0   29.0\n",
       "课程98        99.0   99.0\n",
       "课程99        59.0   59.0\n",
       "\n",
       "[241 rows x 2 columns]"
      ]
     },
     "execution_count": 10,
     "metadata": {},
     "output_type": "execute_result"
    }
   ],
   "source": [
    "stu_course = stu_info.groupby(['course_id']).agg({'price':['max','min']})\n",
    "stu_course"
   ]
  },
  {
   "cell_type": "code",
   "execution_count": 11,
   "metadata": {
    "ExecuteTime": {
     "end_time": "2021-05-25T08:57:52.235163Z",
     "start_time": "2021-05-25T08:57:52.210229Z"
    }
   },
   "outputs": [
    {
     "data": {
      "text/html": [
       "<div>\n",
       "<style scoped>\n",
       "    .dataframe tbody tr th:only-of-type {\n",
       "        vertical-align: middle;\n",
       "    }\n",
       "\n",
       "    .dataframe tbody tr th {\n",
       "        vertical-align: top;\n",
       "    }\n",
       "\n",
       "    .dataframe thead tr th {\n",
       "        text-align: left;\n",
       "    }\n",
       "\n",
       "    .dataframe thead tr:last-of-type th {\n",
       "        text-align: right;\n",
       "    }\n",
       "</style>\n",
       "<table border=\"1\" class=\"dataframe\">\n",
       "  <thead>\n",
       "    <tr>\n",
       "      <th></th>\n",
       "      <th colspan=\"2\" halign=\"left\">price</th>\n",
       "    </tr>\n",
       "    <tr>\n",
       "      <th></th>\n",
       "      <th>max</th>\n",
       "      <th>min</th>\n",
       "    </tr>\n",
       "    <tr>\n",
       "      <th>course_id</th>\n",
       "      <th></th>\n",
       "      <th></th>\n",
       "    </tr>\n",
       "  </thead>\n",
       "  <tbody>\n",
       "    <tr>\n",
       "      <th>课程51</th>\n",
       "      <td>NaN</td>\n",
       "      <td>NaN</td>\n",
       "    </tr>\n",
       "    <tr>\n",
       "      <th>课程96</th>\n",
       "      <td>NaN</td>\n",
       "      <td>NaN</td>\n",
       "    </tr>\n",
       "  </tbody>\n",
       "</table>\n",
       "</div>"
      ],
      "text/plain": [
       "          price    \n",
       "            max min\n",
       "course_id          \n",
       "课程51        NaN NaN\n",
       "课程96        NaN NaN"
      ]
     },
     "execution_count": 11,
     "metadata": {},
     "output_type": "execute_result"
    }
   ],
   "source": [
    "stu_course[stu_course['price']['max']-stu_course['price']['min'] != 0]"
   ]
  },
  {
   "cell_type": "markdown",
   "metadata": {},
   "source": [
    "- **结论**：不存在差异定价的现象，其中课程51和课程96共计4238条数据，暂时不做处理"
   ]
  },
  {
   "cell_type": "markdown",
   "metadata": {
    "ExecuteTime": {
     "end_time": "2021-05-25T08:32:46.298153Z",
     "start_time": "2021-05-25T08:32:46.292768Z"
    }
   },
   "source": [
    "### stu_info表异常值"
   ]
  },
  {
   "cell_type": "code",
   "execution_count": 12,
   "metadata": {
    "ExecuteTime": {
     "end_time": "2021-05-25T08:57:52.251120Z",
     "start_time": "2021-05-25T08:57:52.237157Z"
    }
   },
   "outputs": [],
   "source": [
    "# for i in stu_info.columns[:-1]:\n",
    "#     a = stu_info[i]  \n",
    "#     print(a.value_counts().sort_values()[-10:]) "
   ]
  },
  {
   "cell_type": "markdown",
   "metadata": {},
   "source": [
    "- **结论** ：没有明显的异常值"
   ]
  },
  {
   "cell_type": "markdown",
   "metadata": {},
   "source": [
    "### stu_info重复值处理"
   ]
  },
  {
   "cell_type": "code",
   "execution_count": 13,
   "metadata": {
    "ExecuteTime": {
     "end_time": "2021-05-25T08:57:52.384324Z",
     "start_time": "2021-05-25T08:57:52.253114Z"
    }
   },
   "outputs": [
    {
     "name": "stdout",
     "output_type": "stream",
     "text": [
      "<class 'pandas.core.frame.DataFrame'>\n",
      "Int64Index: 194974 entries, 0 to 194973\n",
      "Data columns (total 5 columns):\n",
      " #   Column            Non-Null Count   Dtype  \n",
      "---  ------            --------------   -----  \n",
      " 0   user_id           194974 non-null  object \n",
      " 1   course_id         194974 non-null  object \n",
      " 2   course_join_time  194974 non-null  object \n",
      " 3   learn_process     194974 non-null  object \n",
      " 4   price             190736 non-null  float64\n",
      "dtypes: float64(1), object(4)\n",
      "memory usage: 8.9+ MB\n"
     ]
    }
   ],
   "source": [
    "stu_info = stu_info.drop_duplicates()\n",
    "stu_info.info()"
   ]
  },
  {
   "cell_type": "markdown",
   "metadata": {},
   "source": [
    "- stu_info没有完全重复的行"
   ]
  },
  {
   "cell_type": "code",
   "execution_count": 14,
   "metadata": {
    "ExecuteTime": {
     "end_time": "2021-05-25T08:57:52.881979Z",
     "start_time": "2021-05-25T08:57:52.384324Z"
    }
   },
   "outputs": [],
   "source": [
    "stu_info.to_csv('./part01/study_information.csv',index=False)"
   ]
  },
  {
   "cell_type": "markdown",
   "metadata": {},
   "source": [
    "## users"
   ]
  },
  {
   "cell_type": "markdown",
   "metadata": {},
   "source": [
    "### users缺失值处理"
   ]
  },
  {
   "cell_type": "code",
   "execution_count": 15,
   "metadata": {
    "ExecuteTime": {
     "end_time": "2021-05-25T08:57:52.897194Z",
     "start_time": "2021-05-25T08:57:52.881979Z"
    }
   },
   "outputs": [
    {
     "data": {
      "text/html": [
       "<div>\n",
       "<style scoped>\n",
       "    .dataframe tbody tr th:only-of-type {\n",
       "        vertical-align: middle;\n",
       "    }\n",
       "\n",
       "    .dataframe tbody tr th {\n",
       "        vertical-align: top;\n",
       "    }\n",
       "\n",
       "    .dataframe thead th {\n",
       "        text-align: right;\n",
       "    }\n",
       "</style>\n",
       "<table border=\"1\" class=\"dataframe\">\n",
       "  <thead>\n",
       "    <tr style=\"text-align: right;\">\n",
       "      <th></th>\n",
       "      <th>user_id</th>\n",
       "      <th>register_time</th>\n",
       "      <th>recently_logged</th>\n",
       "      <th>number_of_classes_join</th>\n",
       "      <th>number_of_classes_out</th>\n",
       "      <th>learn_time</th>\n",
       "      <th>school</th>\n",
       "    </tr>\n",
       "  </thead>\n",
       "  <tbody>\n",
       "    <tr>\n",
       "      <th>0</th>\n",
       "      <td>用户44251</td>\n",
       "      <td>2020/6/18 9:49</td>\n",
       "      <td>2020/6/18 9:49</td>\n",
       "      <td>0</td>\n",
       "      <td>0</td>\n",
       "      <td>41.25</td>\n",
       "      <td>NaN</td>\n",
       "    </tr>\n",
       "    <tr>\n",
       "      <th>1</th>\n",
       "      <td>用户44250</td>\n",
       "      <td>2020/6/18 9:47</td>\n",
       "      <td>2020/6/18 9:48</td>\n",
       "      <td>0</td>\n",
       "      <td>0</td>\n",
       "      <td>0</td>\n",
       "      <td>NaN</td>\n",
       "    </tr>\n",
       "    <tr>\n",
       "      <th>2</th>\n",
       "      <td>用户44249</td>\n",
       "      <td>2020/6/18 9:43</td>\n",
       "      <td>2020/6/18 9:43</td>\n",
       "      <td>0</td>\n",
       "      <td>0</td>\n",
       "      <td>16.22</td>\n",
       "      <td>NaN</td>\n",
       "    </tr>\n",
       "    <tr>\n",
       "      <th>3</th>\n",
       "      <td>用户44248</td>\n",
       "      <td>2020/6/18 9:09</td>\n",
       "      <td>2020/6/18 9:09</td>\n",
       "      <td>0</td>\n",
       "      <td>0</td>\n",
       "      <td>0</td>\n",
       "      <td>NaN</td>\n",
       "    </tr>\n",
       "    <tr>\n",
       "      <th>4</th>\n",
       "      <td>用户44247</td>\n",
       "      <td>2020/6/18 7:41</td>\n",
       "      <td>2020/6/18 8:15</td>\n",
       "      <td>0</td>\n",
       "      <td>0</td>\n",
       "      <td>1.8</td>\n",
       "      <td>NaN</td>\n",
       "    </tr>\n",
       "  </tbody>\n",
       "</table>\n",
       "</div>"
      ],
      "text/plain": [
       "   user_id   register_time recently_logged  number_of_classes_join  \\\n",
       "0  用户44251  2020/6/18 9:49  2020/6/18 9:49                       0   \n",
       "1  用户44250  2020/6/18 9:47  2020/6/18 9:48                       0   \n",
       "2  用户44249  2020/6/18 9:43  2020/6/18 9:43                       0   \n",
       "3  用户44248  2020/6/18 9:09  2020/6/18 9:09                       0   \n",
       "4  用户44247  2020/6/18 7:41  2020/6/18 8:15                       0   \n",
       "\n",
       "   number_of_classes_out learn_time school  \n",
       "0                      0      41.25    NaN  \n",
       "1                      0          0    NaN  \n",
       "2                      0      16.22    NaN  \n",
       "3                      0          0    NaN  \n",
       "4                      0        1.8    NaN  "
      ]
     },
     "execution_count": 15,
     "metadata": {},
     "output_type": "execute_result"
    }
   ],
   "source": [
    "users.head()"
   ]
  },
  {
   "cell_type": "code",
   "execution_count": 16,
   "metadata": {
    "ExecuteTime": {
     "end_time": "2021-05-25T08:57:52.929109Z",
     "start_time": "2021-05-25T08:57:52.901181Z"
    }
   },
   "outputs": [
    {
     "name": "stdout",
     "output_type": "stream",
     "text": [
      "<class 'pandas.core.frame.DataFrame'>\n",
      "RangeIndex: 43983 entries, 0 to 43982\n",
      "Data columns (total 7 columns):\n",
      " #   Column                  Non-Null Count  Dtype \n",
      "---  ------                  --------------  ----- \n",
      " 0   user_id                 43916 non-null  object\n",
      " 1   register_time           43983 non-null  object\n",
      " 2   recently_logged         43983 non-null  object\n",
      " 3   number_of_classes_join  43983 non-null  int64 \n",
      " 4   number_of_classes_out   43983 non-null  int64 \n",
      " 5   learn_time              43983 non-null  object\n",
      " 6   school                  10571 non-null  object\n",
      "dtypes: int64(2), object(5)\n",
      "memory usage: 2.3+ MB\n"
     ]
    }
   ],
   "source": [
    "users.info()"
   ]
  },
  {
   "cell_type": "markdown",
   "metadata": {},
   "source": [
    "- 考虑到user_id是用户的唯一标识，为not null特征。缺失数据为67行，相对于43983的数据量相对较少,直接删除"
   ]
  },
  {
   "cell_type": "code",
   "execution_count": 17,
   "metadata": {
    "ExecuteTime": {
     "end_time": "2021-05-25T08:57:52.945064Z",
     "start_time": "2021-05-25T08:57:52.933095Z"
    }
   },
   "outputs": [],
   "source": [
    "users = users[~users['user_id'].isnull()]"
   ]
  },
  {
   "cell_type": "code",
   "execution_count": 18,
   "metadata": {
    "ExecuteTime": {
     "end_time": "2021-05-25T08:57:52.976977Z",
     "start_time": "2021-05-25T08:57:52.949053Z"
    }
   },
   "outputs": [
    {
     "name": "stdout",
     "output_type": "stream",
     "text": [
      "<class 'pandas.core.frame.DataFrame'>\n",
      "Int64Index: 43916 entries, 0 to 43982\n",
      "Data columns (total 7 columns):\n",
      " #   Column                  Non-Null Count  Dtype \n",
      "---  ------                  --------------  ----- \n",
      " 0   user_id                 43916 non-null  object\n",
      " 1   register_time           43916 non-null  object\n",
      " 2   recently_logged         43916 non-null  object\n",
      " 3   number_of_classes_join  43916 non-null  int64 \n",
      " 4   number_of_classes_out   43916 non-null  int64 \n",
      " 5   learn_time              43916 non-null  object\n",
      " 6   school                  10569 non-null  object\n",
      "dtypes: int64(2), object(5)\n",
      "memory usage: 2.7+ MB\n"
     ]
    }
   ],
   "source": [
    "users.info()"
   ]
  },
  {
   "cell_type": "markdown",
   "metadata": {},
   "source": [
    "- school字段严重缺失，考虑实际情况，为选填选项。暂时保留，并且创建是否填写学校信息"
   ]
  },
  {
   "cell_type": "code",
   "execution_count": 19,
   "metadata": {
    "ExecuteTime": {
     "end_time": "2021-05-25T08:57:53.008892Z",
     "start_time": "2021-05-25T08:57:52.978972Z"
    }
   },
   "outputs": [],
   "source": [
    "users['school_info'] = users['school']\n",
    "users['school_info'][~users['school_info'].isnull()] = 1\n",
    "users['school_info'][users['school_info'].isnull()] = 0"
   ]
  },
  {
   "cell_type": "code",
   "execution_count": 20,
   "metadata": {
    "ExecuteTime": {
     "end_time": "2021-05-25T08:57:53.040623Z",
     "start_time": "2021-05-25T08:57:53.012886Z"
    }
   },
   "outputs": [
    {
     "data": {
      "text/plain": [
       "0    33347\n",
       "1    10569\n",
       "Name: school_info, dtype: int64"
      ]
     },
     "execution_count": 20,
     "metadata": {},
     "output_type": "execute_result"
    }
   ],
   "source": [
    "users['school_info'].value_counts()"
   ]
  },
  {
   "cell_type": "markdown",
   "metadata": {},
   "source": [
    "### users异常值处理"
   ]
  },
  {
   "cell_type": "code",
   "execution_count": 21,
   "metadata": {
    "ExecuteTime": {
     "end_time": "2021-05-25T08:57:53.056576Z",
     "start_time": "2021-05-25T08:57:53.044605Z"
    }
   },
   "outputs": [],
   "source": [
    "# for i in users.columns:\n",
    "#     a = users[i]  \n",
    "#     print(a.value_counts().sort_values(ascending=False)[:3]) "
   ]
  },
  {
   "cell_type": "code",
   "execution_count": 22,
   "metadata": {
    "ExecuteTime": {
     "end_time": "2021-05-25T08:57:53.088491Z",
     "start_time": "2021-05-25T08:57:53.059585Z"
    }
   },
   "outputs": [
    {
     "data": {
      "text/html": [
       "<div>\n",
       "<style scoped>\n",
       "    .dataframe tbody tr th:only-of-type {\n",
       "        vertical-align: middle;\n",
       "    }\n",
       "\n",
       "    .dataframe tbody tr th {\n",
       "        vertical-align: top;\n",
       "    }\n",
       "\n",
       "    .dataframe thead th {\n",
       "        text-align: right;\n",
       "    }\n",
       "</style>\n",
       "<table border=\"1\" class=\"dataframe\">\n",
       "  <thead>\n",
       "    <tr style=\"text-align: right;\">\n",
       "      <th></th>\n",
       "      <th>user_id</th>\n",
       "      <th>register_time</th>\n",
       "      <th>recently_logged</th>\n",
       "      <th>number_of_classes_join</th>\n",
       "      <th>number_of_classes_out</th>\n",
       "      <th>learn_time</th>\n",
       "      <th>school</th>\n",
       "      <th>school_info</th>\n",
       "    </tr>\n",
       "  </thead>\n",
       "  <tbody>\n",
       "    <tr>\n",
       "      <th>11</th>\n",
       "      <td>用户44240</td>\n",
       "      <td>2020/6/17 17:25</td>\n",
       "      <td>--</td>\n",
       "      <td>1</td>\n",
       "      <td>0</td>\n",
       "      <td>1,667.28</td>\n",
       "      <td>NaN</td>\n",
       "      <td>0</td>\n",
       "    </tr>\n",
       "    <tr>\n",
       "      <th>12</th>\n",
       "      <td>用户44239</td>\n",
       "      <td>2020/6/17 17:24</td>\n",
       "      <td>--</td>\n",
       "      <td>1</td>\n",
       "      <td>0</td>\n",
       "      <td>2,109.75</td>\n",
       "      <td>NaN</td>\n",
       "      <td>0</td>\n",
       "    </tr>\n",
       "    <tr>\n",
       "      <th>14</th>\n",
       "      <td>用户44235</td>\n",
       "      <td>2020/6/17 16:39</td>\n",
       "      <td>--</td>\n",
       "      <td>1</td>\n",
       "      <td>0</td>\n",
       "      <td>0</td>\n",
       "      <td>NaN</td>\n",
       "      <td>0</td>\n",
       "    </tr>\n",
       "    <tr>\n",
       "      <th>15</th>\n",
       "      <td>用户44237</td>\n",
       "      <td>2020/6/17 16:39</td>\n",
       "      <td>--</td>\n",
       "      <td>1</td>\n",
       "      <td>0</td>\n",
       "      <td>10,348.62</td>\n",
       "      <td>NaN</td>\n",
       "      <td>0</td>\n",
       "    </tr>\n",
       "    <tr>\n",
       "      <th>16</th>\n",
       "      <td>用户44232</td>\n",
       "      <td>2020/6/17 16:39</td>\n",
       "      <td>--</td>\n",
       "      <td>1</td>\n",
       "      <td>0</td>\n",
       "      <td>9,054.72</td>\n",
       "      <td>NaN</td>\n",
       "      <td>0</td>\n",
       "    </tr>\n",
       "    <tr>\n",
       "      <th>...</th>\n",
       "      <td>...</td>\n",
       "      <td>...</td>\n",
       "      <td>...</td>\n",
       "      <td>...</td>\n",
       "      <td>...</td>\n",
       "      <td>...</td>\n",
       "      <td>...</td>\n",
       "      <td>...</td>\n",
       "    </tr>\n",
       "    <tr>\n",
       "      <th>43772</th>\n",
       "      <td>用户214</td>\n",
       "      <td>2018/10/25 20:46</td>\n",
       "      <td>--</td>\n",
       "      <td>0</td>\n",
       "      <td>0</td>\n",
       "      <td>0</td>\n",
       "      <td>NaN</td>\n",
       "      <td>0</td>\n",
       "    </tr>\n",
       "    <tr>\n",
       "      <th>43789</th>\n",
       "      <td>用户197</td>\n",
       "      <td>2018/10/25 19:53</td>\n",
       "      <td>--</td>\n",
       "      <td>0</td>\n",
       "      <td>0</td>\n",
       "      <td>3.1</td>\n",
       "      <td>NaN</td>\n",
       "      <td>0</td>\n",
       "    </tr>\n",
       "    <tr>\n",
       "      <th>43834</th>\n",
       "      <td>用户151</td>\n",
       "      <td>2018/10/25 18:26</td>\n",
       "      <td>--</td>\n",
       "      <td>0</td>\n",
       "      <td>0</td>\n",
       "      <td>0</td>\n",
       "      <td>NaN</td>\n",
       "      <td>0</td>\n",
       "    </tr>\n",
       "    <tr>\n",
       "      <th>43868</th>\n",
       "      <td>用户117</td>\n",
       "      <td>2018/10/25 17:47</td>\n",
       "      <td>--</td>\n",
       "      <td>0</td>\n",
       "      <td>0</td>\n",
       "      <td>0</td>\n",
       "      <td>NaN</td>\n",
       "      <td>0</td>\n",
       "    </tr>\n",
       "    <tr>\n",
       "      <th>43955</th>\n",
       "      <td>用户29</td>\n",
       "      <td>2018/9/30 19:17</td>\n",
       "      <td>--</td>\n",
       "      <td>0</td>\n",
       "      <td>0</td>\n",
       "      <td>100.32</td>\n",
       "      <td>NaN</td>\n",
       "      <td>0</td>\n",
       "    </tr>\n",
       "  </tbody>\n",
       "</table>\n",
       "<p>5376 rows × 8 columns</p>\n",
       "</div>"
      ],
      "text/plain": [
       "       user_id     register_time recently_logged  number_of_classes_join  \\\n",
       "11     用户44240   2020/6/17 17:25              --                       1   \n",
       "12     用户44239   2020/6/17 17:24              --                       1   \n",
       "14     用户44235   2020/6/17 16:39              --                       1   \n",
       "15     用户44237   2020/6/17 16:39              --                       1   \n",
       "16     用户44232   2020/6/17 16:39              --                       1   \n",
       "...        ...               ...             ...                     ...   \n",
       "43772    用户214  2018/10/25 20:46              --                       0   \n",
       "43789    用户197  2018/10/25 19:53              --                       0   \n",
       "43834    用户151  2018/10/25 18:26              --                       0   \n",
       "43868    用户117  2018/10/25 17:47              --                       0   \n",
       "43955     用户29   2018/9/30 19:17              --                       0   \n",
       "\n",
       "       number_of_classes_out learn_time school school_info  \n",
       "11                         0   1,667.28    NaN           0  \n",
       "12                         0   2,109.75    NaN           0  \n",
       "14                         0          0    NaN           0  \n",
       "15                         0  10,348.62    NaN           0  \n",
       "16                         0   9,054.72    NaN           0  \n",
       "...                      ...        ...    ...         ...  \n",
       "43772                      0          0    NaN           0  \n",
       "43789                      0        3.1    NaN           0  \n",
       "43834                      0          0    NaN           0  \n",
       "43868                      0          0    NaN           0  \n",
       "43955                      0     100.32    NaN           0  \n",
       "\n",
       "[5376 rows x 8 columns]"
      ]
     },
     "execution_count": 22,
     "metadata": {},
     "output_type": "execute_result"
    }
   ],
   "source": [
    "miss_logged = users[users['recently_logged']=='--']\n",
    "miss_logged"
   ]
  },
  {
   "cell_type": "markdown",
   "metadata": {},
   "source": [
    "- users和其余表的关联性，异常值分类为：\n",
    "    - 为流失用户所产生，因此最近登录时间为'--'\n",
    "    - 用户未流失，属于某一课程记录出错的现象"
   ]
  },
  {
   "cell_type": "code",
   "execution_count": 23,
   "metadata": {
    "ExecuteTime": {
     "end_time": "2021-05-25T08:57:53.119407Z",
     "start_time": "2021-05-25T08:57:53.095472Z"
    }
   },
   "outputs": [
    {
     "data": {
      "text/plain": [
       "user_id\n",
       "用户40732    2\n",
       "Name: register_time, dtype: int64"
      ]
     },
     "execution_count": 23,
     "metadata": {},
     "output_type": "execute_result"
    }
   ],
   "source": [
    "error_logged = miss_logged.groupby('user_id').count()['register_time']\n",
    "error_logged[error_logged > 1]"
   ]
  },
  {
   "cell_type": "markdown",
   "metadata": {},
   "source": [
    "**结论**\n",
    "- 数异常数据中-皆独立关联一个用户，仅有用户40732存在两条异常数据\n",
    "- 因此认为该异常数据为为流失用户产生，暂时不做处理"
   ]
  },
  {
   "cell_type": "markdown",
   "metadata": {},
   "source": [
    "### users重复值处理"
   ]
  },
  {
   "cell_type": "code",
   "execution_count": 24,
   "metadata": {
    "ExecuteTime": {
     "end_time": "2021-05-25T08:57:53.180243Z",
     "start_time": "2021-05-25T08:57:53.122400Z"
    }
   },
   "outputs": [
    {
     "data": {
      "text/html": [
       "<div>\n",
       "<style scoped>\n",
       "    .dataframe tbody tr th:only-of-type {\n",
       "        vertical-align: middle;\n",
       "    }\n",
       "\n",
       "    .dataframe tbody tr th {\n",
       "        vertical-align: top;\n",
       "    }\n",
       "\n",
       "    .dataframe thead th {\n",
       "        text-align: right;\n",
       "    }\n",
       "</style>\n",
       "<table border=\"1\" class=\"dataframe\">\n",
       "  <thead>\n",
       "    <tr style=\"text-align: right;\">\n",
       "      <th></th>\n",
       "      <th>user_id</th>\n",
       "      <th>register_time</th>\n",
       "      <th>recently_logged</th>\n",
       "      <th>number_of_classes_join</th>\n",
       "      <th>number_of_classes_out</th>\n",
       "      <th>learn_time</th>\n",
       "      <th>school</th>\n",
       "      <th>school_info</th>\n",
       "    </tr>\n",
       "  </thead>\n",
       "  <tbody>\n",
       "    <tr>\n",
       "      <th>3428</th>\n",
       "      <td>用户40732</td>\n",
       "      <td>2020/5/25 18:01</td>\n",
       "      <td>--</td>\n",
       "      <td>1</td>\n",
       "      <td>0</td>\n",
       "      <td>0</td>\n",
       "      <td>NaN</td>\n",
       "      <td>0</td>\n",
       "    </tr>\n",
       "    <tr>\n",
       "      <th>3429</th>\n",
       "      <td>用户40732</td>\n",
       "      <td>2020/5/25 18:01</td>\n",
       "      <td>--</td>\n",
       "      <td>1</td>\n",
       "      <td>0</td>\n",
       "      <td>0</td>\n",
       "      <td>NaN</td>\n",
       "      <td>0</td>\n",
       "    </tr>\n",
       "    <tr>\n",
       "      <th>3534</th>\n",
       "      <td>用户36488</td>\n",
       "      <td>2020/5/22 15:16</td>\n",
       "      <td>2020/6/17 8:25</td>\n",
       "      <td>1</td>\n",
       "      <td>0</td>\n",
       "      <td>1,006.88</td>\n",
       "      <td>NaN</td>\n",
       "      <td>0</td>\n",
       "    </tr>\n",
       "    <tr>\n",
       "      <th>3535</th>\n",
       "      <td>用户36488</td>\n",
       "      <td>2020/5/22 15:16</td>\n",
       "      <td>2020/6/17 8:25</td>\n",
       "      <td>1</td>\n",
       "      <td>0</td>\n",
       "      <td>1,006.88</td>\n",
       "      <td>NaN</td>\n",
       "      <td>0</td>\n",
       "    </tr>\n",
       "    <tr>\n",
       "      <th>36097</th>\n",
       "      <td>用户7909</td>\n",
       "      <td>2019/4/9 15:08</td>\n",
       "      <td>2019/5/1 8:14</td>\n",
       "      <td>0</td>\n",
       "      <td>0</td>\n",
       "      <td>96.85</td>\n",
       "      <td>NaN</td>\n",
       "      <td>0</td>\n",
       "    </tr>\n",
       "    <tr>\n",
       "      <th>36098</th>\n",
       "      <td>用户7909</td>\n",
       "      <td>2019/4/9 15:08</td>\n",
       "      <td>2019/5/1 8:14</td>\n",
       "      <td>0</td>\n",
       "      <td>0</td>\n",
       "      <td>96.85</td>\n",
       "      <td>NaN</td>\n",
       "      <td>0</td>\n",
       "    </tr>\n",
       "  </tbody>\n",
       "</table>\n",
       "</div>"
      ],
      "text/plain": [
       "       user_id    register_time recently_logged  number_of_classes_join  \\\n",
       "3428   用户40732  2020/5/25 18:01              --                       1   \n",
       "3429   用户40732  2020/5/25 18:01              --                       1   \n",
       "3534   用户36488  2020/5/22 15:16  2020/6/17 8:25                       1   \n",
       "3535   用户36488  2020/5/22 15:16  2020/6/17 8:25                       1   \n",
       "36097   用户7909   2019/4/9 15:08   2019/5/1 8:14                       0   \n",
       "36098   用户7909   2019/4/9 15:08   2019/5/1 8:14                       0   \n",
       "\n",
       "       number_of_classes_out learn_time school school_info  \n",
       "3428                       0          0    NaN           0  \n",
       "3429                       0          0    NaN           0  \n",
       "3534                       0   1,006.88    NaN           0  \n",
       "3535                       0   1,006.88    NaN           0  \n",
       "36097                      0      96.85    NaN           0  \n",
       "36098                      0      96.85    NaN           0  "
      ]
     },
     "execution_count": 24,
     "metadata": {},
     "output_type": "execute_result"
    }
   ],
   "source": [
    "users[users.duplicated(keep=False)]"
   ]
  },
  {
   "cell_type": "markdown",
   "metadata": {},
   "source": [
    "- 其中用户40732的'recently_logged'为'--'\n",
    "- users记录该用户最近登录的信息，应该把重复值去除"
   ]
  },
  {
   "cell_type": "code",
   "execution_count": 25,
   "metadata": {
    "ExecuteTime": {
     "end_time": "2021-05-25T08:57:53.244163Z",
     "start_time": "2021-05-25T08:57:53.182237Z"
    }
   },
   "outputs": [],
   "source": [
    "users.drop_duplicates(inplace=True)"
   ]
  },
  {
   "cell_type": "code",
   "execution_count": 26,
   "metadata": {
    "ExecuteTime": {
     "end_time": "2021-05-25T08:57:53.371267Z",
     "start_time": "2021-05-25T08:57:53.249149Z"
    }
   },
   "outputs": [],
   "source": [
    "users.to_csv('./part01/users.csv',index=False)"
   ]
  },
  {
   "cell_type": "markdown",
   "metadata": {},
   "source": [
    "## 进一步提取login信息\n",
    "- 拆分login_place字段，获取国家、省份、地区字段"
   ]
  },
  {
   "cell_type": "code",
   "execution_count": 27,
   "metadata": {
    "ExecuteTime": {
     "end_time": "2021-05-25T09:03:27.927103Z",
     "start_time": "2021-05-25T08:57:53.374220Z"
    }
   },
   "outputs": [
    {
     "name": "stdout",
     "output_type": "stream",
     "text": [
      "0.0%\n"
     ]
    },
    {
     "name": "stderr",
     "output_type": "stream",
     "text": [
      "Building prefix dict from the default dictionary ...\n",
      "Loading model from cache C:\\Users\\zmqmo\\AppData\\Local\\Temp\\jieba.cache\n",
      "Loading model cost 0.622 seconds.\n",
      "Prefix dict has been built successfully.\n"
     ]
    },
    {
     "name": "stdout",
     "output_type": "stream",
     "text": [
      "2.58%\n",
      "5.17%\n",
      "7.75%\n",
      "10.33%\n",
      "12.92%\n",
      "15.5%\n",
      "18.08%\n",
      "20.66%\n",
      "23.25%\n",
      "25.83%\n",
      "28.41%\n",
      "31.0%\n",
      "33.58%\n",
      "36.16%\n",
      "38.75%\n",
      "41.33%\n",
      "43.91%\n",
      "46.49%\n",
      "49.08%\n",
      "51.66%\n",
      "54.24%\n",
      "56.83%\n",
      "59.41%\n",
      "61.99%\n",
      "64.58%\n",
      "67.16%\n",
      "69.74%\n",
      "72.32%\n",
      "74.91%\n",
      "77.49%\n",
      "80.07%\n",
      "82.66%\n",
      "85.24%\n",
      "87.82%\n",
      "90.41%\n",
      "92.99%\n",
      "95.57%\n",
      "98.15%\n"
     ]
    }
   ],
   "source": [
    "login_data = login.copy() \n",
    "for i in range(login_data.shape[0]):\n",
    "    if login_data.loc[i,'login_place'][0:2] == '中国':\n",
    "        login_data.loc[i,'国家'] = '中国'\n",
    "        if '黑龙江' in login_data.loc[i,'login_place']:\n",
    "            login_data.loc[i,'省份'] = '黑龙江'\n",
    "            if len(login_data.loc[i,'login_place']) > 5:\n",
    "                login_data.loc[i,'地区'] = login_data.loc[i,'login_place'][5:]\n",
    "                \n",
    "        if '新疆维吾尔' in login_data.loc[i,'login_place']:\n",
    "            login_data.loc[i,'省份'] = '新疆维吾尔'\n",
    "            if len(login_data.loc[i,'login_place']) > 7:\n",
    "                login_data.loc[i,'地区'] = login_data.loc[i,'login_place'][7:]\n",
    "                \n",
    "        if '内蒙古' in login_data.loc[i,'login_place']:\n",
    "            login_data.loc[i,'省份'] = '内蒙古'\n",
    "            if len(login_data.loc[i,'login_place']) > 5:\n",
    "                login_data.loc[i,'地区'] = login_data.loc[i,'login_place'][5:]\n",
    "                \n",
    "        else:\n",
    "            login_data.loc[i,'省份'] = login_data.loc[i,'login_place'][2:4]\n",
    "            login_data.loc[i,'地区'] = login_data.loc[i,'login_place'][4:]   \n",
    "            \n",
    "    else:\n",
    "        li = [word for word in jieba.cut(login_data.iloc[i,2])]\n",
    "        if len(li) == 2:\n",
    "            login_data.loc[i,'国家'] = li[0]\n",
    "            login_data.loc[i,'省份'] = li[1]\n",
    "        else:\n",
    "            login_data.loc[i,'国家'] = li[0]\n",
    "    \n",
    "    if i % 10000 == 0:\n",
    "        print(f'{round(i*100/(int(login_data.shape[0])),2)}%')"
   ]
  },
  {
   "cell_type": "code",
   "execution_count": 28,
   "metadata": {
    "ExecuteTime": {
     "end_time": "2021-05-25T09:03:29.437057Z",
     "start_time": "2021-05-25T09:03:27.929100Z"
    }
   },
   "outputs": [],
   "source": [
    "login_data.to_csv('./part01/login_area_split.csv',index=False)"
   ]
  },
  {
   "cell_type": "code",
   "execution_count": null,
   "metadata": {},
   "outputs": [],
   "source": []
  }
 ],
 "metadata": {
  "kernelspec": {
   "display_name": "tf1",
   "language": "python",
   "name": "base"
  },
  "language_info": {
   "codemirror_mode": {
    "name": "ipython",
    "version": 3
   },
   "file_extension": ".py",
   "mimetype": "text/x-python",
   "name": "python",
   "nbconvert_exporter": "python",
   "pygments_lexer": "ipython3",
   "version": "3.7.6"
  },
  "toc": {
   "base_numbering": 1,
   "nav_menu": {},
   "number_sections": true,
   "sideBar": true,
   "skip_h1_title": false,
   "title_cell": "Table of Contents",
   "title_sidebar": "Contents",
   "toc_cell": false,
   "toc_position": {
    "height": "calc(100% - 180px)",
    "left": "10px",
    "top": "150px",
    "width": "270.042px"
   },
   "toc_section_display": true,
   "toc_window_display": true
  },
  "varInspector": {
   "cols": {
    "lenName": 16,
    "lenType": 16,
    "lenVar": 40
   },
   "kernels_config": {
    "python": {
     "delete_cmd_postfix": "",
     "delete_cmd_prefix": "del ",
     "library": "var_list.py",
     "varRefreshCmd": "print(var_dic_list())"
    },
    "r": {
     "delete_cmd_postfix": ") ",
     "delete_cmd_prefix": "rm(",
     "library": "var_list.r",
     "varRefreshCmd": "cat(var_dic_list()) "
    }
   },
   "types_to_exclude": [
    "module",
    "function",
    "builtin_function_or_method",
    "instance",
    "_Feature"
   ],
   "window_display": false
  }
 },
 "nbformat": 4,
 "nbformat_minor": 4
}
